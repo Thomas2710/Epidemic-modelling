{
 "cells": [
  {
   "cell_type": "markdown",
   "metadata": {},
   "source": [
    "# SIRD model playground\n",
    "\n",
    "Given the following equations of the SIRD model\n",
    "\n",
    "\\begin{align*}\n",
    "\\frac{dS}{dt} &= -\\lambda \\cdot S \\cdot I \\\\\n",
    "\\frac{dI}{dt} &= \\lambda \\cdot S \\cdot I - (\\gamma \\cdot I) - (\\mu \\cdot I) \\\\\n",
    "\\frac{dR}{dt} &= \\gamma \\cdot I \\\\\n",
    "\\frac{dD}{dt} &= \\mu \\cdot I\n",
    "\\end{align*}\n",
    "\n",
    "Given the initial conditions: *population, cases, deaths, recovered* and *Basic reproductive rate (R0), Mortality rate ratio (M), Average infectios period (P)* it is possible to compute the correspondent ODEs and then obtain the *S, I, R, D* params"
   ]
  },
  {
   "cell_type": "code",
   "execution_count": 1,
   "metadata": {},
   "outputs": [],
   "source": [
    "from sird_base_model import SIRD"
   ]
  },
  {
   "cell_type": "code",
   "execution_count": 2,
   "metadata": {},
   "outputs": [],
   "source": [
    "# Initial params\n",
    "initial_conditions = {\n",
    "    'population': 60000000,\n",
    "    'cases': 1577,\n",
    "    'deaths': 34,\n",
    "    'recovered': 83\n",
    "}\n",
    "\n",
    "R0 = 2.5 # Basic reproduction number\n",
    "M = 0.03 # Mortality rate\n",
    "P = 14 # Period of infection"
   ]
  },
  {
   "cell_type": "code",
   "execution_count": 3,
   "metadata": {},
   "outputs": [],
   "source": [
    "model = SIRD(R0, M, P)"
   ]
  },
  {
   "cell_type": "code",
   "execution_count": 5,
   "metadata": {},
   "outputs": [],
   "source": [
    "days = 28\n",
    "model.solve(initial_conditions, days)\n",
    "model.plot()\n",
    "print()"
   ]
  },
  {
   "cell_type": "code",
   "execution_count": 11,
   "metadata": {},
   "outputs": [],
   "source": [
    "model.soln"
   ]
  },
  {
   "cell_type": "code",
   "execution_count": 12,
   "metadata": {},
   "outputs": [],
   "source": [
    "# Parameters after a simulation\n",
    "params = model.get_params()\n",
    "print(params)"
   ]
  }
 ],
 "metadata": {
  "kernelspec": {
   "display_name": ".venv",
   "language": "python",
   "name": "python3"
  },
  "language_info": {
   "codemirror_mode": {
    "name": "ipython",
    "version": 3
   },
   "file_extension": ".py",
   "mimetype": "text/x-python",
   "name": "python",
   "nbconvert_exporter": "python",
   "pygments_lexer": "ipython3",
   "version": "3.11.9"
  }
 },
 "nbformat": 4,
 "nbformat_minor": 2
}
