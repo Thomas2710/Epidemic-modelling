{
 "cells": [
  {
   "cell_type": "markdown",
   "metadata": {},
   "source": [
    "# SIRD model playground\n",
    "\n",
    "Given the following equations of the SIRD model\n",
    "\n",
    "\\begin{align*}\n",
    "\\frac{dS}{dt} &= -\\lambda \\cdot S \\cdot I \\\\\n",
    "\\frac{dI}{dt} &= \\lambda \\cdot S \\cdot I - (\\gamma \\cdot I) - (\\mu \\cdot I) \\\\\n",
    "\\frac{dR}{dt} &= \\gamma \\cdot I \\\\\n",
    "\\frac{dD}{dt} &= \\mu \\cdot I\n",
    "\\end{align*}\n",
    "\n",
    "Given the initial conditions: *population, cases, deaths, recovered* and *Basic reproductive rate (R0), Mortality rate ratio (M), Average infectios period (P)* it is possible to compute the correspondent ODEs and then obtain the *S, I, R, D* params"
   ]
  },
  {
   "cell_type": "code",
   "execution_count": 1,
   "metadata": {},
   "outputs": [],
   "source": [
    "from sird_base_model import SIRD"
   ]
  },
  {
   "cell_type": "code",
   "execution_count": 2,
   "metadata": {},
   "outputs": [],
   "source": [
    "# Initial params\n",
    "initial_conditions = {\n",
    "    'population': 60000000,\n",
    "    'cases': 1577,\n",
    "    'deaths': 34,\n",
    "    'recovered': 83\n",
    "}\n",
    "\n",
    "R0 = 2.5 # Basic reproduction number\n",
    "M = 0.03 # Mortality rate\n",
    "P = 14 # Period of infection"
   ]
  },
  {
   "cell_type": "code",
   "execution_count": 3,
   "metadata": {},
   "outputs": [],
   "source": [
    "model = SIRD(R0, M, P)"
   ]
  },
  {
   "cell_type": "code",
   "execution_count": 5,
   "metadata": {},
   "outputs": [
    {
     "name": "stdout",
     "output_type": "stream",
     "text": [
      "For a population of 60000000 people, after 28 days there were:\n",
      "0.0% total deaths, or 580 people.\n",
      "0.0% total recovered, or 981 people.\n",
      "At the virus' maximum 0.0% people were simultaneously infected, or 1460 people.\n",
      "After 28 days the virus was present in less than 16 individuals.\n",
      "\n"
     ]
    },
    {
     "data": {
      "image/png": "[encoded data removed]",
      "text/plain": [
       "<Figure size 640x480 with 1 Axes>"
      ]
     },
     "metadata": {},
     "output_type": "display_data"
    }
   ],
   "source": [
    "days = 28\n",
    "model.solve(initial_conditions, days)\n",
    "model.plot()\n",
    "print()"
   ]
  },
  {
   "cell_type": "code",
   "execution_count": 11,
   "metadata": {},
   "outputs": [
    {
     "data": {
      "text/plain": [
       "  message: The solver successfully reached the end of the integration interval.\n",
       "  success: True\n",
       "   status: 0\n",
       "        t: [ 0.000e+00  5.007e-01 ...  3.645e+02  3.650e+02]\n",
       "        y: [[ 1.000e+00  9.999e-01 ...  1.070e-01  1.070e-01]\n",
       "            [ 4.833e-05  5.108e-05 ...  3.667e-07  3.569e-07]\n",
       "            [ 3.333e-07  2.111e-06 ...  8.670e-01  8.670e-01]\n",
       "            [ 1.333e-06  1.387e-06 ...  2.601e-02  2.601e-02]]\n",
       "      sol: None\n",
       " t_events: None\n",
       " y_events: None\n",
       "     nfev: 122\n",
       "     njev: 0\n",
       "      nlu: 0"
      ]
     },
     "execution_count": 11,
     "metadata": {},
     "output_type": "execute_result"
    }
   ],
   "source": [
    "model.soln"
   ]
  },
  {
   "cell_type": "code",
   "execution_count": 12,
   "metadata": {},
   "outputs": [
    {
     "name": "stdout",
     "output_type": "stream",
     "text": [
      "{'S': 0.10701920085263186, 'I': 3.569322995756967e-07, 'R': 0.866970018331782, 'D': 0.02601042388328679}\n"
     ]
    }
   ],
   "source": [
    "# Parameters after a simulation\n",
    "params = model.get_params()\n",
    "print(params)"
   ]
  }
 ],
 "metadata": {
  "kernelspec": {
   "display_name": ".venv",
   "language": "python",
   "name": "python3"
  },
  "language_info": {
   "codemirror_mode": {
    "name": "ipython",
    "version": 3
   },
   "file_extension": ".py",
   "mimetype": "text/x-python",
   "name": "python",
   "nbconvert_exporter": "python",
   "pygments_lexer": "ipython3",
   "version": "3.11.8"
  }
 },
 "nbformat": 4,
 "nbformat_minor": 2
}
