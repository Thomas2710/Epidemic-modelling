{
 "cells": [
  {
   "cell_type": "markdown",
   "metadata": {},
   "source": [
    "# SIRD model playground\n",
    "\n",
    "Given the following equations of the SIRD model\n",
    "\n",
    "\\begin{align*}\n",
    "\\frac{dS}{dt} &= -\\beta \\cdot S \\cdot I \\\\\n",
    "\\frac{dI}{dt} &= \\beta \\cdot S \\cdot I - (\\gamma \\cdot I) - (\\delta \\cdot I) \\\\\n",
    "\\frac{dR}{dt} &= \\gamma \\cdot I \\\\\n",
    "\\frac{dD}{dt} &= \\delta \\cdot I\n",
    "\\end{align*}\n",
    "\n",
    "Given the initial conditions: *population, cases, deaths, recovered* and *Basic reproductive rate (R0), Mortality rate ratio (M), Average infectios period (P)* it is possible to compute the correspondent ODEs and then obtain the *S, I, R, D* params"
   ]
  },
  {
   "cell_type": "code",
   "execution_count": 1,
   "metadata": {},
   "outputs": [
    {
     "name": "stdout",
     "output_type": "stream",
     "text": [
      "USING LAG: 0, DAYS: 7\n"
     ]
    }
   ],
   "source": [
    "from epidemic_modelling.pso import LSTMConfig\n",
    "from sird_base_model import SIRD\n",
    "import matplotlib.pyplot as plt\n",
    "import pandas as pd\n",
    "from pso import MyPSO, BaselineConfig, TimeVaryingConfig\n",
    "import os\n",
    "\n",
    "class ExperimentType:\n",
    "    BASELINE = 0\n",
    "    TIME_VARYING = 1\n",
    "    LSTM = 2\n",
    "\n",
    "Experiment_type = ExperimentType.TIME_VARYING\n",
    "#Experiment_type = ExperimentType.LSTM\n",
    "# Experiment_type = ExperimentType.BASELINE\n",
    "\n",
    "if Experiment_type == ExperimentType.BASELINE:\n",
    "    config = BaselineConfig()\n",
    "elif Experiment_type == ExperimentType.TIME_VARYING:\n",
    "    config = TimeVaryingConfig()\n",
    "else:\n",
    "    raise ValueError(\"Invalid Experiment Type\")\n",
    "    \n",
    "SEGMENTS = config.SEGMENTS if Experiment_type == ExperimentType.TIME_VARYING else 1\n",
    "#config = LSTMConfig()\n",
    "\n",
    "DAYS = config.DAYS\n",
    "LAG = config.LAG\n",
    "\n",
    "print(F\"USING LAG: {LAG}, DAYS: {DAYS}\")\n",
    "parent_class = MyPSO(config=config)"
   ]
  },
  {
   "cell_type": "code",
   "execution_count": 2,
   "metadata": {},
   "outputs": [
    {
     "name": "stdout",
     "output_type": "stream",
     "text": [
      "/home/thomas/Desktop/Didattica/AIS/2semestre/Bio-inspired/Epidemic-modelling/epidemic_modelling/../plots/exp_l0_s8/p50_g50\n"
     ]
    }
   ],
   "source": [
    "#First wave is february to may 2020\n",
    "FIRST_WAVE = False\n",
    "#Post first wave was june to sep 2020\n",
    "FIRST_WAVE_POST = False\n",
    "#Second wave was Oct to Dec 2020\n",
    "SECOND_WAVE = False\n",
    "#Third wave was jan to may 2021\n",
    "THIRD_WAVE = False\n",
    "#Post Third Wave was june to oct 2021\n",
    "THIRD_WAVE_POST = False\n",
    "#Fourth wave was nov 2021 to march 2022\n",
    "FOURTH_WAVE = False\n",
    "\n",
    "if FIRST_WAVE: \n",
    "    LAG = 0\n",
    "    SEGMENTS = 15\n",
    "elif FIRST_WAVE_POST:\n",
    "    LAG = 16 *DAYS\n",
    "    SEGMENTS = 19\n",
    "elif SECOND_WAVE:\n",
    "    LAG = 35 * DAYS\n",
    "    SEGMENTS = 11\n",
    "elif THIRD_WAVE:\n",
    "    LAG = 48 *DAYS\n",
    "    SEGMENTS = 22\n",
    "elif THIRD_WAVE_POST:\n",
    "    LAG = 67 *DAYS\n",
    "    SEGMENTS = 23 \n",
    "elif FOURTH_WAVE:\n",
    "    LAG = 90 *DAYS\n",
    "    SEGMENTS = 20\n",
    "\n",
    "#Creating folders where we are going to save the plots for this specific experiment\n",
    "PLOT_FOLDER = 'exp_l'+str(LAG*DAYS)+'_s'+str(SEGMENTS)\n",
    "plot_folder_path = os.path.join(os.getcwd(), '../plots/'+PLOT_FOLDER)\n",
    "if not os.path.exists(plot_folder_path):\n",
    "    os.mkdir(plot_folder_path)\n",
    "\n",
    "plot_inner_folder_name = 'p'+str(config.POPULATION_SIZE)+'_g'+str(int(config.MAX_GENERATIONS))\n",
    "plot_inner_folder_path = os.path.join(plot_folder_path, plot_inner_folder_name)\n",
    "print(plot_inner_folder_path)\n",
    "if not os.path.exists(plot_inner_folder_path):\n",
    "    os.mkdir(plot_inner_folder_path)\n"
   ]
  },
  {
   "cell_type": "markdown",
   "metadata": {},
   "source": [
    "## Loading the solution file of the PSO run on SIRD"
   ]
  },
  {
   "cell_type": "code",
   "execution_count": 3,
   "metadata": {},
   "outputs": [
    {
     "name": "stdout",
     "output_type": "stream",
     "text": [
      "/home/thomas/Desktop/Didattica/AIS/2semestre/Bio-inspired/Epidemic-modelling/epidemic_modelling\n"
     ]
    }
   ],
   "source": [
    "import os\n",
    "print(os.getcwd())"
   ]
  },
  {
   "cell_type": "code",
   "execution_count": 4,
   "metadata": {},
   "outputs": [],
   "source": [
    "def get_params_from_file():\n",
    "    FOLDER = f\"../data/solutions/{config.NAME}.csv\"\n",
    "    file = os.path.join(os.getcwd(), FOLDER)\n",
    "    print(file)\n",
    "    with open(file) as f:\n",
    "        res = pd.read_csv(f)\n",
    "        # convert to single dict with keys = [params]\n",
    "        res = res.to_dict(orient=\"records\")\n",
    "    return res"
   ]
  },
  {
   "cell_type": "code",
   "execution_count": 5,
   "metadata": {},
   "outputs": [
    {
     "ename": "ParserError",
     "evalue": "Error tokenizing data. C error: Expected 1 fields in line 9, saw 3\n",
     "output_type": "error",
     "traceback": [
      "\u001b[0;31m---------------------------------------------------------------------------\u001b[0m",
      "\u001b[0;31mParserError\u001b[0m                               Traceback (most recent call last)",
      "Cell \u001b[0;32mIn[5], line 1\u001b[0m\n\u001b[0;32m----> 1\u001b[0m pso_params \u001b[38;5;241m=\u001b[39m \u001b[43mget_params_from_file\u001b[49m\u001b[43m(\u001b[49m\u001b[43m)\u001b[49m\n\u001b[1;32m      2\u001b[0m \u001b[38;5;28mprint\u001b[39m(pso_params)\n",
      "Cell \u001b[0;32mIn[4], line 5\u001b[0m, in \u001b[0;36mget_params_from_file\u001b[0;34m()\u001b[0m\n\u001b[1;32m      3\u001b[0m file \u001b[38;5;241m=\u001b[39m os\u001b[38;5;241m.\u001b[39mpath\u001b[38;5;241m.\u001b[39mjoin(os\u001b[38;5;241m.\u001b[39mgetcwd(), FOLDER)\n\u001b[1;32m      4\u001b[0m \u001b[38;5;28;01mwith\u001b[39;00m \u001b[38;5;28mopen\u001b[39m(file) \u001b[38;5;28;01mas\u001b[39;00m f:\n\u001b[0;32m----> 5\u001b[0m     res \u001b[38;5;241m=\u001b[39m \u001b[43mpd\u001b[49m\u001b[38;5;241;43m.\u001b[39;49m\u001b[43mread_csv\u001b[49m\u001b[43m(\u001b[49m\u001b[43mf\u001b[49m\u001b[43m)\u001b[49m\n\u001b[1;32m      6\u001b[0m     \u001b[38;5;66;03m# convert to single dict with keys = [params]\u001b[39;00m\n\u001b[1;32m      7\u001b[0m     res \u001b[38;5;241m=\u001b[39m res\u001b[38;5;241m.\u001b[39mto_dict(orient\u001b[38;5;241m=\u001b[39m\u001b[38;5;124m\"\u001b[39m\u001b[38;5;124mrecords\u001b[39m\u001b[38;5;124m\"\u001b[39m)\n",
      "File \u001b[0;32m~/.cache/pypoetry/virtualenvs/epidemic-modelling-53XrTyzF-py3.11/lib/python3.11/site-packages/pandas/io/parsers/readers.py:1026\u001b[0m, in \u001b[0;36mread_csv\u001b[0;34m(filepath_or_buffer, sep, delimiter, header, names, index_col, usecols, dtype, engine, converters, true_values, false_values, skipinitialspace, skiprows, skipfooter, nrows, na_values, keep_default_na, na_filter, verbose, skip_blank_lines, parse_dates, infer_datetime_format, keep_date_col, date_parser, date_format, dayfirst, cache_dates, iterator, chunksize, compression, thousands, decimal, lineterminator, quotechar, quoting, doublequote, escapechar, comment, encoding, encoding_errors, dialect, on_bad_lines, delim_whitespace, low_memory, memory_map, float_precision, storage_options, dtype_backend)\u001b[0m\n\u001b[1;32m   1013\u001b[0m kwds_defaults \u001b[38;5;241m=\u001b[39m _refine_defaults_read(\n\u001b[1;32m   1014\u001b[0m     dialect,\n\u001b[1;32m   1015\u001b[0m     delimiter,\n\u001b[0;32m   (...)\u001b[0m\n\u001b[1;32m   1022\u001b[0m     dtype_backend\u001b[38;5;241m=\u001b[39mdtype_backend,\n\u001b[1;32m   1023\u001b[0m )\n\u001b[1;32m   1024\u001b[0m kwds\u001b[38;5;241m.\u001b[39mupdate(kwds_defaults)\n\u001b[0;32m-> 1026\u001b[0m \u001b[38;5;28;01mreturn\u001b[39;00m \u001b[43m_read\u001b[49m\u001b[43m(\u001b[49m\u001b[43mfilepath_or_buffer\u001b[49m\u001b[43m,\u001b[49m\u001b[43m \u001b[49m\u001b[43mkwds\u001b[49m\u001b[43m)\u001b[49m\n",
      "File \u001b[0;32m~/.cache/pypoetry/virtualenvs/epidemic-modelling-53XrTyzF-py3.11/lib/python3.11/site-packages/pandas/io/parsers/readers.py:626\u001b[0m, in \u001b[0;36m_read\u001b[0;34m(filepath_or_buffer, kwds)\u001b[0m\n\u001b[1;32m    623\u001b[0m     \u001b[38;5;28;01mreturn\u001b[39;00m parser\n\u001b[1;32m    625\u001b[0m \u001b[38;5;28;01mwith\u001b[39;00m parser:\n\u001b[0;32m--> 626\u001b[0m     \u001b[38;5;28;01mreturn\u001b[39;00m \u001b[43mparser\u001b[49m\u001b[38;5;241;43m.\u001b[39;49m\u001b[43mread\u001b[49m\u001b[43m(\u001b[49m\u001b[43mnrows\u001b[49m\u001b[43m)\u001b[49m\n",
      "File \u001b[0;32m~/.cache/pypoetry/virtualenvs/epidemic-modelling-53XrTyzF-py3.11/lib/python3.11/site-packages/pandas/io/parsers/readers.py:1923\u001b[0m, in \u001b[0;36mTextFileReader.read\u001b[0;34m(self, nrows)\u001b[0m\n\u001b[1;32m   1916\u001b[0m nrows \u001b[38;5;241m=\u001b[39m validate_integer(\u001b[38;5;124m\"\u001b[39m\u001b[38;5;124mnrows\u001b[39m\u001b[38;5;124m\"\u001b[39m, nrows)\n\u001b[1;32m   1917\u001b[0m \u001b[38;5;28;01mtry\u001b[39;00m:\n\u001b[1;32m   1918\u001b[0m     \u001b[38;5;66;03m# error: \"ParserBase\" has no attribute \"read\"\u001b[39;00m\n\u001b[1;32m   1919\u001b[0m     (\n\u001b[1;32m   1920\u001b[0m         index,\n\u001b[1;32m   1921\u001b[0m         columns,\n\u001b[1;32m   1922\u001b[0m         col_dict,\n\u001b[0;32m-> 1923\u001b[0m     ) \u001b[38;5;241m=\u001b[39m \u001b[38;5;28;43mself\u001b[39;49m\u001b[38;5;241;43m.\u001b[39;49m\u001b[43m_engine\u001b[49m\u001b[38;5;241;43m.\u001b[39;49m\u001b[43mread\u001b[49m\u001b[43m(\u001b[49m\u001b[43m  \u001b[49m\u001b[38;5;66;43;03m# type: ignore[attr-defined]\u001b[39;49;00m\n\u001b[1;32m   1924\u001b[0m \u001b[43m        \u001b[49m\u001b[43mnrows\u001b[49m\n\u001b[1;32m   1925\u001b[0m \u001b[43m    \u001b[49m\u001b[43m)\u001b[49m\n\u001b[1;32m   1926\u001b[0m \u001b[38;5;28;01mexcept\u001b[39;00m \u001b[38;5;167;01mException\u001b[39;00m:\n\u001b[1;32m   1927\u001b[0m     \u001b[38;5;28mself\u001b[39m\u001b[38;5;241m.\u001b[39mclose()\n",
      "File \u001b[0;32m~/.cache/pypoetry/virtualenvs/epidemic-modelling-53XrTyzF-py3.11/lib/python3.11/site-packages/pandas/io/parsers/c_parser_wrapper.py:234\u001b[0m, in \u001b[0;36mCParserWrapper.read\u001b[0;34m(self, nrows)\u001b[0m\n\u001b[1;32m    232\u001b[0m \u001b[38;5;28;01mtry\u001b[39;00m:\n\u001b[1;32m    233\u001b[0m     \u001b[38;5;28;01mif\u001b[39;00m \u001b[38;5;28mself\u001b[39m\u001b[38;5;241m.\u001b[39mlow_memory:\n\u001b[0;32m--> 234\u001b[0m         chunks \u001b[38;5;241m=\u001b[39m \u001b[38;5;28;43mself\u001b[39;49m\u001b[38;5;241;43m.\u001b[39;49m\u001b[43m_reader\u001b[49m\u001b[38;5;241;43m.\u001b[39;49m\u001b[43mread_low_memory\u001b[49m\u001b[43m(\u001b[49m\u001b[43mnrows\u001b[49m\u001b[43m)\u001b[49m\n\u001b[1;32m    235\u001b[0m         \u001b[38;5;66;03m# destructive to chunks\u001b[39;00m\n\u001b[1;32m    236\u001b[0m         data \u001b[38;5;241m=\u001b[39m _concatenate_chunks(chunks)\n",
      "File \u001b[0;32mparsers.pyx:838\u001b[0m, in \u001b[0;36mpandas._libs.parsers.TextReader.read_low_memory\u001b[0;34m()\u001b[0m\n",
      "File \u001b[0;32mparsers.pyx:905\u001b[0m, in \u001b[0;36mpandas._libs.parsers.TextReader._read_rows\u001b[0;34m()\u001b[0m\n",
      "File \u001b[0;32mparsers.pyx:874\u001b[0m, in \u001b[0;36mpandas._libs.parsers.TextReader._tokenize_rows\u001b[0;34m()\u001b[0m\n",
      "File \u001b[0;32mparsers.pyx:891\u001b[0m, in \u001b[0;36mpandas._libs.parsers.TextReader._check_tokenize_status\u001b[0;34m()\u001b[0m\n",
      "File \u001b[0;32mparsers.pyx:2061\u001b[0m, in \u001b[0;36mpandas._libs.parsers.raise_parser_error\u001b[0;34m()\u001b[0m\n",
      "\u001b[0;31mParserError\u001b[0m: Error tokenizing data. C error: Expected 1 fields in line 9, saw 3\n"
     ]
    }
   ],
   "source": [
    "pso_params = get_params_from_file()\n",
    "print(pso_params)"
   ]
  },
  {
   "cell_type": "markdown",
   "metadata": {},
   "source": [
    "## Loading and plotting raw data"
   ]
  },
  {
   "cell_type": "code",
   "execution_count": null,
   "metadata": {},
   "outputs": [],
   "source": [
    "'''\n",
    "USE_SUSCEPTIBLE = True\n",
    "\n",
    "# Viz real data\n",
    "df = pd.read_csv('../data/raw.csv')\n",
    "# Lineplot totale_positivi, dimessi_guariti, deceduti giving iloc\n",
    "\n",
    "if Experiment_type == ExperimentType.BASELINE:\n",
    "    row_interval = slice(LAG,LAG+DAYS+1)\n",
    "elif Experiment_type == ExperimentType.TIME_VARYING:\n",
    "    row_interval = slice(LAG,(DAYS*SEGMENTS)+LAG+1)\n",
    "else:\n",
    "    raise ValueError(\"Invalid Experiment Type\")\n",
    "original_df = df.iloc[row_interval, 1:4]\n",
    "# Rename columns\n",
    "original_df.columns = ['Original_I', 'Original_R', 'Original_D']\n",
    "display(original_df)\n",
    "original_df.plot(title=\"Original Data\")\n",
    "\n",
    "if USE_SUSCEPTIBLE:\n",
    "    # Show only susceptible\n",
    "    original_only_sus_df = df.iloc[row_interval, 4:5]\n",
    "    original_only_sus_df.columns = ['Original_S']\n",
    "    display(original_only_sus_df)\n",
    "    original_only_sus_df.plot(title=\"Original Data - Only Susceptible\")\n",
    "'''\n"
   ]
  },
  {
   "cell_type": "markdown",
   "metadata": {},
   "source": [
    "## Loading and plotting daily processed data"
   ]
  },
  {
   "cell_type": "code",
   "execution_count": null,
   "metadata": {},
   "outputs": [],
   "source": [
    "USE_SUSCEPTIBLE = True\n",
    "\n",
    "# Viz real data\n",
    "df = pd.read_csv('../data/daily_processed.csv')\n",
    "# Lineplot totale_positivi, dimessi_guariti, deceduti giving iloc\n",
    "\n",
    "if Experiment_type == ExperimentType.BASELINE:\n",
    "    row_interval = slice(LAG,LAG+DAYS+1)\n",
    "elif Experiment_type == ExperimentType.TIME_VARYING:\n",
    "    row_interval = slice(LAG,(DAYS*SEGMENTS)+LAG+1)\n",
    "else:\n",
    "    row_interval = slice(LAG,(DAYS*config.SEGMENTS)+LAG+1)\n",
    "original_df = df.iloc[row_interval, 1:4]\n",
    "# Rename columns\n",
    "original_df.columns = ['Original_I', 'Original_R', 'Original_D']\n",
    "display(original_df)\n",
    "original_df.plot(title=\"Original Data\")\n",
    "\n",
    "\n",
    "\n",
    "if USE_SUSCEPTIBLE:\n",
    "    # Show only susceptible\n",
    "    original_only_sus_df = df.iloc[row_interval, 4:5]\n",
    "    original_only_sus_df.columns = ['Original_S']\n",
    "    display(original_only_sus_df)\n",
    "    original_only_sus_df.plot(title=\"Original Data - Only Susceptible\")\n"
   ]
  },
  {
   "cell_type": "markdown",
   "metadata": {},
   "source": [
    "## Computing SIRD from PSO obtained params"
   ]
  },
  {
   "cell_type": "code",
   "execution_count": null,
   "metadata": {},
   "outputs": [],
   "source": [
    "# Computing SIRD values using SIRD model + PSO obtained params\n",
    "\n",
    "# Initial state of the system\n",
    "initial_conditions, _ = parent_class.get_sird_from_data(start_week=LAG, end_week=LAG+DAYS, population=parent_class.population)\n",
    "model_df = pd.DataFrame({'Computed_I': [], 'Computed_R': [], 'Computed_D': []})\n",
    "model_df = pd.concat([model_df, pd.DataFrame({'Computed_I': initial_conditions['initial_I'], 'Computed_R': initial_conditions['initial_R'], 'Computed_D': initial_conditions['initial_D']}, index=[0])])\n",
    "\n",
    "if USE_SUSCEPTIBLE:\n",
    "    model_only_sus_df = pd.DataFrame({'Computed_S': initial_conditions['initial_S']}, index=[0])\n",
    "    \n",
    "print(initial_conditions)\n",
    "if Experiment_type == ExperimentType.BASELINE:\n",
    "    params = pso_params[0]\n",
    "    model_base = SIRD(beta=params['beta'], gamma=params['gamma'], delta=params['delta'])\n",
    "    model_base.solve(initial_conditions, time_frame=DAYS)\n",
    "    s,i,r,d, _ = model_base.get_sird_values().values()\n",
    "    model_df = pd.DataFrame({'Computed_I': i, 'Computed_R': r, 'Computed_D': d})\n",
    "    model_df.reset_index(drop=True, inplace=True)\n",
    "    display(model_df)\n",
    "    model_df.plot(title='SIRD model with baseline parameters')\n",
    "\n",
    "    if USE_SUSCEPTIBLE:\n",
    "        model_only_sus_df = pd.DataFrame({'Computed_S': s})\n",
    "        display(model_only_sus_df)\n",
    "        model_only_sus_df.plot(title='SIRD model with baseline parameters - Only Susceptible')\n",
    "\n",
    "elif Experiment_type == ExperimentType.TIME_VARYING:\n",
    "    # Iterate on each segment\n",
    "    for segment_idx, params in enumerate(pso_params):\n",
    "        print(segment_idx)\n",
    "        model_tvar = SIRD(beta=params['beta'], gamma=params['gamma'], delta=params['delta'])\n",
    "        model_tvar.solve(initial_conditions, time_frame=DAYS)\n",
    "        s,i,r,d, _ = model_tvar.get_sird_values().values()\n",
    "        initial_conditions = {'population': parent_class.population, 'initial_I': i[-1], 'initial_R': r[-1], 'initial_D': d[-1], 'initial_S': s[-1]}\n",
    "        model_df = pd.concat([model_df, pd.DataFrame({'Computed_I': i[1:], 'Computed_R': r[1:], 'Computed_D': d[1:]})])\n",
    "        if USE_SUSCEPTIBLE:\n",
    "            model_only_sus_df = pd.concat([model_only_sus_df, pd.DataFrame({'Computed_S': s[1:]})])\n",
    "    model_df.reset_index(drop=True, inplace=True)\n",
    "    display(model_df)\n",
    "    model_df.plot(title=\"SIRD model with time varying parameters\")\n",
    "\n",
    "    if USE_SUSCEPTIBLE:\n",
    "        model_only_sus_df.reset_index(drop=True, inplace=True)\n",
    "        display(model_only_sus_df)\n",
    "        model_only_sus_df.plot(title=\"SIRD model with time varying parameters - Only Susceptible\")"
   ]
  },
  {
   "cell_type": "code",
   "execution_count": null,
   "metadata": {
    "scrolled": true
   },
   "outputs": [],
   "source": [
    "# Compare the original data with the computed sird values\n",
    "# Change the order of legend items so that i have Original_I, Computed_I, Original_R, Computed_R, Original_D, Computed_D\n",
    "\n",
    "# params contains an array of dict contianing beta, gamma, delta \n",
    "# i want to put them in the title using markdown syntax\n",
    "params_len = len(pso_params)\n",
    "# Get all params from the dict given a key. E.g. get_pk(params, 'beta') -> [0.1, 0.2, 0.3]\n",
    "get_pk = lambda k: [round(p[k],3) for p in pso_params]\n",
    "params_title = f\"\\nWeights = [S: {config.weight_S}, I: {config.weight_I}, R: {config.weight_R}, D: {config.weight_D}]\\nGenerations: {config.MAX_GENERATIONS}\\nPopulation: {config.POPULATION_SIZE}\\nSegments: {SEGMENTS}\"#\\n\\nBetas: {get_pk('beta')}\\nGammas: {get_pk('gamma')}\\nDeltas: {get_pk('delta')}\\n\"\n",
    "print(params_title)\n",
    "original_df.plot(ax=model_df.plot(), title=f'Original data vs SIRD model\\n\\n{params_title}')\n",
    "# 0 3 1 5 2 5\n",
    "handles, labels = plt.gca().get_legend_handles_labels()\n",
    "order = [3, 0, 4, 1, 5, 2]\n",
    "plt.legend([handles[idx] for idx in order], [labels[idx] for idx in order])\n",
    "plt.savefig(os.path.join(plot_inner_folder_path,'_cr'+str(config.cognitive_rate)+'_sr'+str(config.social_rate)+'_neigh'+str(config.neighborhood)+'_i'+str(config.inertia)+'.png'))\n",
    "\n",
    "if USE_SUSCEPTIBLE:\n",
    "    original_only_sus_df.plot(ax=model_only_sus_df.plot(), title=f'Original data vs SIRD model - Only Susceptible\\n\\n{params_title}')\n",
    "    handles, labels = plt.gca().get_legend_handles_labels()\n",
    "    order = [1, 0]\n",
    "    plt.legend([handles[idx] for idx in order], [labels[idx] for idx in order])\n",
    "    plt.savefig(os.path.join(plot_inner_folder_path,'_cr'+str(config.cognitive_rate)+'_sr'+str(config.social_rate)+'_i'+str(config.inertia)+'susc.png'))\n",
    "    "
   ]
  },
  {
   "cell_type": "markdown",
   "metadata": {},
   "source": [
    "## Test_augmented dataset"
   ]
  },
  {
   "cell_type": "code",
   "execution_count": null,
   "metadata": {},
   "outputs": [],
   "source": [
    "# Test augmented dataset\n",
    "df_augmented = pd.read_csv(\"../data/augmented.csv\")\n",
    "\n",
    "# Consider initial conditions\n",
    "initial_conditions, _ = parent_class.get_sird_from_data(start_week=0, end_week=DAYS, population=parent_class.population)\n",
    "display(initial_conditions)\n",
    "# keep only beta, gamma, delta columns\n",
    "df_augmented = df_augmented[['beta', 'gamma', 'delta']][:-1]\n",
    "display(df_augmented)"
   ]
  },
  {
   "cell_type": "code",
   "execution_count": null,
   "metadata": {},
   "outputs": [],
   "source": [
    "model_df = pd.DataFrame({'Computed_I': [], 'Computed_R': [], 'Computed_D': []})\n",
    "# use initial conditions from line 0 of augmented df\n",
    "for week in range(0, SEGMENTS):\n",
    "    augmented_params = df_augmented.iloc[week]\n",
    "    # print(augmented_params)\n",
    "    model_augmented = SIRD(beta=augmented_params['beta'], gamma=augmented_params['gamma'], delta=augmented_params['delta'])\n",
    "    model_augmented.solve(initial_conditions, time_frame=7)\n",
    "    s,i,r,d, _ = model_augmented.get_sird_values().values()\n",
    "    initial_conditions = {'population': parent_class.population, 'initial_I': i[-1], 'initial_R': r[-1], 'initial_D': d[-1], 'initial_S': s[-1]}\n",
    "    model_df = pd.concat([model_df, pd.DataFrame({'Computed_I': i[1:], 'Computed_R': r[1:], 'Computed_D': d[1:]})])\n",
    "    if USE_SUSCEPTIBLE:\n",
    "        model_only_sus_df = pd.concat([model_only_sus_df, pd.DataFrame({'Computed_S': s[1:]})])\n",
    "\n",
    "\n",
    "model_df.reset_index(drop=True, inplace=True)\n",
    "display(model_df)\n",
    "model_df.plot(title=\"SIRD model with augmented parameters\")\n"
   ]
  },
  {
   "cell_type": "code",
   "execution_count": null,
   "metadata": {},
   "outputs": [],
   "source": []
  }
 ],
 "metadata": {
  "kernelspec": {
   "display_name": "Python 3 (ipykernel)",
   "language": "python",
   "name": "python3"
  },
  "language_info": {
   "codemirror_mode": {
    "name": "ipython",
    "version": 3
   },
   "file_extension": ".py",
   "mimetype": "text/x-python",
   "name": "python",
   "nbconvert_exporter": "python",
   "pygments_lexer": "ipython3",
   "version": "3.11.0"
  }
 },
 "nbformat": 4,
 "nbformat_minor": 4
}
